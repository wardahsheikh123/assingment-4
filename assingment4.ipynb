{
 "cells": [
  {
   "cell_type": "code",
   "execution_count": 1,
   "metadata": {
    "scrolled": true
   },
   "outputs": [
    {
     "name": "stdout",
     "output_type": "stream",
     "text": [
      "john\n",
      "merry\n",
      "25\n",
      "Karachi\n",
      "Matric\n",
      "fter update Qualification  Bsc\n",
      "{'first_name': 'john', 'last_name,': 'merry', 'age': '25', 'city': 'Karachi'}\n"
     ]
    }
   ],
   "source": [
    "obj = {\n",
    "    \"first_name\" : \"john\",\n",
    "    \"last_name,\" : \"merry\",\n",
    "    \"age\":\"25\",\n",
    "    \"city\" : \"Karachi\"\n",
    "}\n",
    "\n",
    "\n",
    "for i in obj.values():\n",
    "    print(i)\n",
    "\n",
    "\n",
    "obj.update({\"qualification\":\"Matric\"})\n",
    "\n",
    "\n",
    "print(obj[\"qualification\"])\n",
    "\n",
    "\n",
    "obj[\"qualification\"] = \"Bsc\"\n",
    "\n",
    "print(\"fter update Qualification \",\n",
    "obj[\"qualification\"])\n",
    "\n",
    "del obj[\"qualification\"]\n",
    "\n",
    "\n",
    "print(obj)"
   ]
  },
  {
   "cell_type": "code",
   "execution_count": 3,
   "metadata": {},
   "outputs": [
    {
     "name": "stdout",
     "output_type": "stream",
     "text": [
      "\n",
      "Islamabad is in Pakistan.\n",
      "  It has a population of about 197000000.\n",
      "  The Andes mountains are nearby.\n",
      "\n",
      "Beijing is in China.\n",
      "  It has a population of about 1.386.\n",
      "  The Mountain Hua mountains are nearby.\n",
      "\n",
      "Kathmandu is in Nepal.\n",
      "  It has a population of about 1003285.\n",
      "  The Himilaya mountains are nearby.\n"
     ]
    }
   ],
   "source": [
    "cities = {\n",
    "    'islamabad': {\n",
    "        'country': 'pakistan',\n",
    "        'population': 197000000,\n",
    "        'nearby mountains': 'andes',\n",
    "        },\n",
    "     'beijing':{\n",
    "        'country': 'china',\n",
    "        'population': 1.386,\n",
    "        'nearby mountains': 'mountain hua',\n",
    "        },\n",
    "    'kathmandu': {\n",
    "        'country': 'nepal',\n",
    "        'population': 1003285,\n",
    "        'nearby mountains': 'himilaya',\n",
    "        }\n",
    "    }\n",
    "\n",
    "for city, city_info in cities.items():\n",
    "    country = city_info['country'].title()\n",
    "    population = city_info['population']\n",
    "    mountains = city_info['nearby mountains'].title()\n",
    "\n",
    "    print(\"\\n\" + city.title() + \" is in \" + country + \".\")\n",
    "    print(\"  It has a population of about \" + str(population) + \".\")\n",
    "    print(\"  The \" + mountains + \" mountains are nearby.\")"
   ]
  },
  {
   "cell_type": "code",
   "execution_count": 4,
   "metadata": {},
   "outputs": [
    {
     "name": "stdout",
     "output_type": "stream",
     "text": [
      "Welcome To Movie Theater\n",
      "Enter the no. of Person : 6\n",
      "Enter The Age Of Person: 12\n",
      "Your Ticket price will be 10$\n",
      "Enter The Age Of Person: 2\n",
      "Your Ticket is Free! Enjoy Your Movie\n",
      "Enter The Age Of Person: 40\n",
      "Your Ticket price will be 15$\n",
      "Enter The Age Of Person: 1\n",
      "Your Ticket is Free! Enjoy Your Movie\n",
      "Enter The Age Of Person: 80\n",
      "Your Ticket price will be 15$\n",
      "Enter The Age Of Person: 1\n",
      "Your Ticket is Free! Enjoy Your Movie\n",
      "Total Amount =  40  $ Enjoy Your Movie\n"
     ]
    }
   ],
   "source": [
    "print(\"Welcome To Movie Theater\")\n",
    "persons = int(input(\"Enter the no. of Person : \"))\n",
    "\n",
    "total_price = 0\n",
    "\n",
    "for i in range(1,persons+1):\n",
    "    age = int(input(\"Enter The Age Of Person: \"))\n",
    "    if age <= 3:\n",
    "        print(\"Your Ticket is Free! Enjoy Your Movie\")\n",
    "    elif age <= 12:\n",
    "        print(\"Your Ticket price will be 10$\")\n",
    "        total_price +=10\n",
    "    else:\n",
    "        print(\"Your Ticket price will be 15$\")\n",
    "        total_price +=15\n",
    "\n",
    "print(\"Total Amount = \",total_price,\" $ Enjoy Your Movie\")"
   ]
  },
  {
   "cell_type": "code",
   "execution_count": 6,
   "metadata": {},
   "outputs": [
    {
     "name": "stdout",
     "output_type": "stream",
     "text": [
      "Enter The Bookk Title: jungle book\n",
      "One of my favorite books is  jungle book\n"
     ]
    }
   ],
   "source": [
    "def favorite_book(book_name):\n",
    "    print(\"One of my favorite books is \",book_name)\n",
    "    \n",
    "title=input(\"Enter The Bookk Title: \")\n",
    "\n",
    "favorite_book(title)"
   ]
  },
  {
   "cell_type": "code",
   "execution_count": 11,
   "metadata": {},
   "outputs": [
    {
     "name": "stdout",
     "output_type": "stream",
     "text": [
      "Guess the number between 1 to 30 : 6\n",
      "Your guess is too high\n",
      "Guess the number between 1 to 30 : 8\n",
      "Your guess is too high\n",
      "Guess the number between 1 to 30 : 32\n",
      "Your guess is too high\n",
      "You Loose\n",
      "Correct Number is  1\n"
     ]
    }
   ],
   "source": [
    "import random\n",
    "\n",
    "random_number = random.randrange(1,30)\n",
    "\n",
    "flag = False\n",
    "\n",
    "for i in range(1,4):\n",
    "    guess = int(input(\"Guess the number between 1 to 30 : \"))\n",
    "    if guess == random_number:\n",
    "        flag = True \n",
    "        break\n",
    "    elif guess < random_number:\n",
    "        print(\"Your guess is too low\")\n",
    "    else:\n",
    "        print(\"Your guess is too high\")\n",
    "        \n",
    "if flag:\n",
    "    print(\"Congratulation you Win!!\")\n",
    "else:\n",
    "    print(\"You Loose\")\n",
    "    print(\"Correct Number is \", random_number)\n",
    "\n",
    "\n"
   ]
  },
  {
   "cell_type": "code",
   "execution_count": null,
   "metadata": {},
   "outputs": [],
   "source": []
  },
  {
   "cell_type": "code",
   "execution_count": null,
   "metadata": {},
   "outputs": [],
   "source": []
  }
 ],
 "metadata": {
  "kernelspec": {
   "display_name": "Python 3",
   "language": "python",
   "name": "python3"
  },
  "language_info": {
   "codemirror_mode": {
    "name": "ipython",
    "version": 3
   },
   "file_extension": ".py",
   "mimetype": "text/x-python",
   "name": "python",
   "nbconvert_exporter": "python",
   "pygments_lexer": "ipython3",
   "version": "3.6.7"
  }
 },
 "nbformat": 4,
 "nbformat_minor": 2
}
